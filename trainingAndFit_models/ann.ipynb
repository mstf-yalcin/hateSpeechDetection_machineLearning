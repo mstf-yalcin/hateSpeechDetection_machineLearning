{
 "cells": [
  {
   "cell_type": "code",
   "execution_count": 1,
   "metadata": {
    "colab": {
     "base_uri": "https://localhost:8080/"
    },
    "id": "cXre5DUqXh13",
    "outputId": "59fc472e-672f-4817-b515-bc45f8858434"
   },
   "outputs": [
    {
     "name": "stdout",
     "output_type": "stream",
     "text": [
      "<class 'pandas.core.frame.DataFrame'>\n",
      "RangeIndex: 11222 entries, 0 to 11221\n",
      "Data columns (total 4 columns):\n",
      " #   Column      Non-Null Count  Dtype \n",
      "---  ------      --------------  ----- \n",
      " 0   Unnamed: 0  11222 non-null  int64 \n",
      " 1   tweet       11222 non-null  object\n",
      " 2   label       11222 non-null  object\n",
      " 3   label2      11222 non-null  int64 \n",
      "dtypes: int64(2), object(2)\n",
      "memory usage: 350.8+ KB\n"
     ]
    }
   ],
   "source": [
    "from keras.models import Sequential\n",
    "from keras.layers import Dense,Dropout,Activation\n",
    "import pandas as pd\n",
    "import numpy as np\n",
    "import tensorflow as tf\n",
    "from tensorflow import keras\n",
    "\n",
    "df=pd.read_csv('dataset2.csv')\n",
    "\n",
    "df.info()\n"
   ]
  },
  {
   "cell_type": "code",
   "execution_count": 2,
   "metadata": {
    "id": "ZULsZj2BXl9v"
   },
   "outputs": [],
   "source": [
    "#label=df['label'].values\n",
    "label=df['label2'].values \n",
    "\n",
    "tweet=df['tweet']\n",
    "\n",
    "from sklearn.feature_extraction.text import TfidfVectorizer\n",
    "vectorizer = TfidfVectorizer()\n",
    "features=vectorizer.fit_transform(tweet)\n",
    "\n",
    "y = keras.utils.to_categorical(label)"
   ]
  },
  {
   "cell_type": "code",
   "execution_count": 3,
   "metadata": {
    "id": "gtsQ5gRQXnRx"
   },
   "outputs": [],
   "source": [
    "from sklearn.model_selection import train_test_split\n",
    "X_train,X_test ,y_train, y_test=train_test_split(features.toarray(),label,test_size=0.3,random_state=42, stratify=label)"
   ]
  },
  {
   "cell_type": "code",
   "execution_count": 4,
   "metadata": {
    "colab": {
     "base_uri": "https://localhost:8080/"
    },
    "id": "uXThHMJTXoUh",
    "outputId": "70434c85-b416-4bdf-a1b2-a3f5f3511072"
   },
   "outputs": [
    {
     "name": "stdout",
     "output_type": "stream",
     "text": [
      "(11222, 56234) (7855, 56234) (3367, 56234)\n"
     ]
    }
   ],
   "source": [
    "print(features.shape, X_train.shape, X_test.shape)"
   ]
  },
  {
   "cell_type": "code",
   "execution_count": 5,
   "metadata": {
    "colab": {
     "base_uri": "https://localhost:8080/"
    },
    "id": "Iv6WKyBhXpMV",
    "outputId": "6ce5e054-feb0-42a7-acc1-d55c87fa3f06"
   },
   "outputs": [
    {
     "name": "stdout",
     "output_type": "stream",
     "text": [
      "Model: \"sequential\"\n",
      "_________________________________________________________________\n",
      " Layer (type)                Output Shape              Param #   \n",
      "=================================================================\n",
      " dense (Dense)               (None, 128)               7198080   \n",
      "                                                                 \n",
      " dropout (Dropout)           (None, 128)               0         \n",
      "                                                                 \n",
      " dense_1 (Dense)             (None, 128)               16512     \n",
      "                                                                 \n",
      " dropout_1 (Dropout)         (None, 128)               0         \n",
      "                                                                 \n",
      " dense_2 (Dense)             (None, 32)                4128      \n",
      "                                                                 \n",
      " dropout_2 (Dropout)         (None, 32)                0         \n",
      "                                                                 \n",
      " dense_3 (Dense)             (None, 3)                 99        \n",
      "                                                                 \n",
      "=================================================================\n",
      "Total params: 7,218,819\n",
      "Trainable params: 7,218,819\n",
      "Non-trainable params: 0\n",
      "_________________________________________________________________\n"
     ]
    }
   ],
   "source": [
    "model = Sequential()\n",
    "model.add(Dense(128, input_dim=features.shape[1],activation='sigmoid'))\n",
    "model.add(Dropout(0.5))\n",
    "model.add(Dense(128, kernel_initializer='uniform', activation='relu'))\n",
    "model.add(Dropout(0.5))\n",
    "model.add(Dense(32, kernel_initializer='uniform', activation='relu'))\n",
    "model.add(Dropout(0.5))\n",
    "model.add(Dense(3, kernel_initializer='uniform', activation='sigmoid'))\n",
    "\n",
    "model.compile(loss=\"mean_absolute_error\", optimizer=\"adam\", metrics=[\"accuracy\"])\n",
    "#model.compile(loss=\"binary_crossentropy\", optimizer='adam', metrics=[\"accuracy\"])\n",
    "model.summary()"
   ]
  },
  {
   "cell_type": "code",
   "execution_count": 6,
   "metadata": {
    "colab": {
     "base_uri": "https://localhost:8080/"
    },
    "id": "9pCH4Do5XqBh",
    "outputId": "b761ebb2-2df2-4406-e38f-2099036845c0"
   },
   "outputs": [
    {
     "name": "stdout",
     "output_type": "stream",
     "text": [
      "Epoch 1/50\n"
     ]
    },
    {
     "name": "stderr",
     "output_type": "stream",
     "text": [
      "C:\\Users\\mustafa\\anaconda3\\lib\\site-packages\\tensorflow\\python\\util\\dispatch.py:1082: UserWarning: \"`sparse_categorical_crossentropy` received `from_logits=True`, but the `output` argument was produced by a sigmoid or softmax activation and thus does not represent logits. Was this intended?\"\n",
      "  return dispatch_target(*args, **kwargs)\n"
     ]
    },
    {
     "name": "stdout",
     "output_type": "stream",
     "text": [
      "16/16 - 2s - loss: 1.0089 - accuracy: 0.6918 - val_loss: 0.7954 - val_accuracy: 0.7473 - 2s/epoch - 148ms/step\n",
      "Epoch 2/50\n",
      "16/16 - 1s - loss: 0.7352 - accuracy: 0.7472 - val_loss: 0.6450 - val_accuracy: 0.7473 - 1s/epoch - 91ms/step\n",
      "Epoch 3/50\n",
      "16/16 - 1s - loss: 0.6664 - accuracy: 0.7472 - val_loss: 0.6353 - val_accuracy: 0.7473 - 1s/epoch - 89ms/step\n",
      "Epoch 4/50\n",
      "16/16 - 1s - loss: 0.6597 - accuracy: 0.7472 - val_loss: 0.6358 - val_accuracy: 0.7473 - 1s/epoch - 91ms/step\n",
      "Epoch 5/50\n",
      "16/16 - 1s - loss: 0.6537 - accuracy: 0.7472 - val_loss: 0.6335 - val_accuracy: 0.7473 - 1s/epoch - 91ms/step\n",
      "Epoch 6/50\n",
      "16/16 - 1s - loss: 0.6490 - accuracy: 0.7472 - val_loss: 0.6323 - val_accuracy: 0.7473 - 1s/epoch - 92ms/step\n",
      "Epoch 7/50\n",
      "16/16 - 1s - loss: 0.6490 - accuracy: 0.7472 - val_loss: 0.6318 - val_accuracy: 0.7473 - 1s/epoch - 90ms/step\n",
      "Epoch 8/50\n",
      "16/16 - 1s - loss: 0.6486 - accuracy: 0.7472 - val_loss: 0.6312 - val_accuracy: 0.7473 - 1s/epoch - 91ms/step\n",
      "Epoch 9/50\n",
      "16/16 - 1s - loss: 0.6493 - accuracy: 0.7472 - val_loss: 0.6301 - val_accuracy: 0.7473 - 1s/epoch - 92ms/step\n",
      "Epoch 10/50\n",
      "16/16 - 1s - loss: 0.6445 - accuracy: 0.7472 - val_loss: 0.6294 - val_accuracy: 0.7473 - 1s/epoch - 92ms/step\n",
      "Epoch 11/50\n",
      "16/16 - 2s - loss: 0.6407 - accuracy: 0.7472 - val_loss: 0.6289 - val_accuracy: 0.7473 - 2s/epoch - 95ms/step\n",
      "Epoch 12/50\n",
      "16/16 - 1s - loss: 0.6366 - accuracy: 0.7472 - val_loss: 0.6286 - val_accuracy: 0.7473 - 1s/epoch - 93ms/step\n",
      "Epoch 13/50\n",
      "16/16 - 1s - loss: 0.6381 - accuracy: 0.7472 - val_loss: 0.6270 - val_accuracy: 0.7473 - 1s/epoch - 93ms/step\n",
      "Epoch 14/50\n",
      "16/16 - 1s - loss: 0.6365 - accuracy: 0.7472 - val_loss: 0.6266 - val_accuracy: 0.7473 - 1s/epoch - 92ms/step\n",
      "Epoch 15/50\n",
      "16/16 - 1s - loss: 0.6340 - accuracy: 0.7472 - val_loss: 0.6256 - val_accuracy: 0.7473 - 1s/epoch - 92ms/step\n",
      "Epoch 16/50\n",
      "16/16 - 1s - loss: 0.6362 - accuracy: 0.7472 - val_loss: 0.6248 - val_accuracy: 0.7473 - 1s/epoch - 92ms/step\n",
      "Epoch 17/50\n",
      "16/16 - 1s - loss: 0.6330 - accuracy: 0.7472 - val_loss: 0.6237 - val_accuracy: 0.7473 - 1s/epoch - 93ms/step\n",
      "Epoch 18/50\n",
      "16/16 - 2s - loss: 0.6289 - accuracy: 0.7472 - val_loss: 0.6231 - val_accuracy: 0.7473 - 2s/epoch - 94ms/step\n",
      "Epoch 19/50\n",
      "16/16 - 1s - loss: 0.6273 - accuracy: 0.7472 - val_loss: 0.6224 - val_accuracy: 0.7473 - 1s/epoch - 93ms/step\n",
      "Epoch 20/50\n",
      "16/16 - 1s - loss: 0.6236 - accuracy: 0.7472 - val_loss: 0.6215 - val_accuracy: 0.7473 - 1s/epoch - 92ms/step\n",
      "Epoch 21/50\n",
      "16/16 - 2s - loss: 0.6193 - accuracy: 0.7472 - val_loss: 0.6195 - val_accuracy: 0.7473 - 2s/epoch - 97ms/step\n",
      "Epoch 22/50\n",
      "16/16 - 2s - loss: 0.6173 - accuracy: 0.7472 - val_loss: 0.6189 - val_accuracy: 0.7473 - 2s/epoch - 103ms/step\n",
      "Epoch 23/50\n",
      "16/16 - 2s - loss: 0.6157 - accuracy: 0.7472 - val_loss: 0.6167 - val_accuracy: 0.7473 - 2s/epoch - 101ms/step\n",
      "Epoch 24/50\n",
      "16/16 - 2s - loss: 0.6094 - accuracy: 0.7472 - val_loss: 0.6149 - val_accuracy: 0.7473 - 2s/epoch - 100ms/step\n",
      "Epoch 25/50\n",
      "16/16 - 2s - loss: 0.6061 - accuracy: 0.7472 - val_loss: 0.6125 - val_accuracy: 0.7473 - 2s/epoch - 97ms/step\n",
      "Epoch 26/50\n",
      "16/16 - 2s - loss: 0.6039 - accuracy: 0.7472 - val_loss: 0.6108 - val_accuracy: 0.7473 - 2s/epoch - 99ms/step\n",
      "Epoch 27/50\n",
      "16/16 - 2s - loss: 0.5966 - accuracy: 0.7472 - val_loss: 0.6068 - val_accuracy: 0.7473 - 2s/epoch - 98ms/step\n",
      "Epoch 28/50\n",
      "16/16 - 2s - loss: 0.5875 - accuracy: 0.7472 - val_loss: 0.6015 - val_accuracy: 0.7473 - 2s/epoch - 94ms/step\n",
      "Epoch 29/50\n",
      "16/16 - 1s - loss: 0.5760 - accuracy: 0.7472 - val_loss: 0.5938 - val_accuracy: 0.7473 - 1s/epoch - 92ms/step\n",
      "Epoch 30/50\n",
      "16/16 - 2s - loss: 0.5666 - accuracy: 0.7472 - val_loss: 0.5809 - val_accuracy: 0.7473 - 2s/epoch - 97ms/step\n",
      "Epoch 31/50\n",
      "16/16 - 2s - loss: 0.5472 - accuracy: 0.7472 - val_loss: 0.5671 - val_accuracy: 0.7473 - 2s/epoch - 100ms/step\n",
      "Epoch 32/50\n",
      "16/16 - 2s - loss: 0.5199 - accuracy: 0.7473 - val_loss: 0.5597 - val_accuracy: 0.7473 - 2s/epoch - 95ms/step\n",
      "Epoch 33/50\n",
      "16/16 - 2s - loss: 0.5010 - accuracy: 0.7489 - val_loss: 0.5364 - val_accuracy: 0.7473 - 2s/epoch - 95ms/step\n",
      "Epoch 34/50\n",
      "16/16 - 1s - loss: 0.4860 - accuracy: 0.7572 - val_loss: 0.5271 - val_accuracy: 0.7481 - 1s/epoch - 92ms/step\n",
      "Epoch 35/50\n",
      "16/16 - 2s - loss: 0.4687 - accuracy: 0.7654 - val_loss: 0.5277 - val_accuracy: 0.7508 - 2s/epoch - 94ms/step\n",
      "Epoch 36/50\n",
      "16/16 - 1s - loss: 0.4353 - accuracy: 0.8075 - val_loss: 0.4935 - val_accuracy: 0.7980 - 1s/epoch - 91ms/step\n",
      "Epoch 37/50\n",
      "16/16 - 1s - loss: 0.4014 - accuracy: 0.8416 - val_loss: 0.4876 - val_accuracy: 0.8078 - 1s/epoch - 93ms/step\n",
      "Epoch 38/50\n",
      "16/16 - 1s - loss: 0.3783 - accuracy: 0.8550 - val_loss: 0.5200 - val_accuracy: 0.7992 - 1s/epoch - 90ms/step\n",
      "Epoch 39/50\n",
      "16/16 - 1s - loss: 0.3525 - accuracy: 0.8698 - val_loss: 0.5070 - val_accuracy: 0.8102 - 1s/epoch - 92ms/step\n",
      "Epoch 40/50\n",
      "16/16 - 1s - loss: 0.3332 - accuracy: 0.8759 - val_loss: 0.4563 - val_accuracy: 0.8251 - 1s/epoch - 94ms/step\n",
      "Epoch 41/50\n",
      "16/16 - 2s - loss: 0.3136 - accuracy: 0.8919 - val_loss: 0.5120 - val_accuracy: 0.8170 - 2s/epoch - 96ms/step\n",
      "Epoch 42/50\n",
      "16/16 - 1s - loss: 0.2957 - accuracy: 0.8941 - val_loss: 0.4603 - val_accuracy: 0.8254 - 1s/epoch - 93ms/step\n",
      "Epoch 43/50\n",
      "16/16 - 2s - loss: 0.2704 - accuracy: 0.9057 - val_loss: 0.5407 - val_accuracy: 0.8173 - 2s/epoch - 95ms/step\n",
      "Epoch 44/50\n",
      "16/16 - 1s - loss: 0.2614 - accuracy: 0.9081 - val_loss: 0.4687 - val_accuracy: 0.8271 - 1s/epoch - 93ms/step\n",
      "Epoch 45/50\n",
      "16/16 - 1s - loss: 0.2552 - accuracy: 0.9138 - val_loss: 0.5359 - val_accuracy: 0.8194 - 1s/epoch - 93ms/step\n",
      "Epoch 46/50\n",
      "16/16 - 1s - loss: 0.2383 - accuracy: 0.9203 - val_loss: 0.4824 - val_accuracy: 0.8295 - 1s/epoch - 92ms/step\n",
      "Epoch 47/50\n",
      "16/16 - 2s - loss: 0.2409 - accuracy: 0.9203 - val_loss: 0.5004 - val_accuracy: 0.8301 - 2s/epoch - 96ms/step\n",
      "Epoch 48/50\n",
      "16/16 - 2s - loss: 0.2236 - accuracy: 0.9271 - val_loss: 0.5872 - val_accuracy: 0.8203 - 2s/epoch - 94ms/step\n",
      "Epoch 49/50\n",
      "16/16 - 2s - loss: 0.2129 - accuracy: 0.9299 - val_loss: 0.4979 - val_accuracy: 0.8271 - 2s/epoch - 96ms/step\n",
      "Epoch 50/50\n",
      "16/16 - 1s - loss: 0.2015 - accuracy: 0.9344 - val_loss: 0.5300 - val_accuracy: 0.8271 - 1s/epoch - 87ms/step\n"
     ]
    }
   ],
   "source": [
    "history=model.fit(X_train, y_train,validation_split=0.1,validation_data=(X_test, y_test), batch_size=500, epochs=50, verbose=2)"
   ]
  },
  {
   "cell_type": "code",
   "execution_count": 7,
   "metadata": {
    "colab": {
     "base_uri": "https://localhost:8080/"
    },
    "id": "dKIDkV7QXrBb",
    "outputId": "855a7a83-9f20-4da0-adc5-0c2dfc12623c"
   },
   "outputs": [
    {
     "name": "stdout",
     "output_type": "stream",
     "text": [
      "106/106 [==============================] - 1s 5ms/step - loss: 0.5300 - accuracy: 0.8271\n",
      "[0.530023455619812, 0.8271458148956299]\n"
     ]
    }
   ],
   "source": [
    "score=model.evaluate(X_test,y_test)\n",
    "print(score)"
   ]
  },
  {
   "cell_type": "code",
   "execution_count": 8,
   "metadata": {
    "id": "-X-ICGOhhpm7"
   },
   "outputs": [],
   "source": [
    "class_names = [\"hiçbiri\",\"nefret\",\"saldırgan\"]\n"
   ]
  },
  {
   "cell_type": "code",
   "execution_count": 9,
   "metadata": {
    "colab": {
     "base_uri": "https://localhost:8080/"
    },
    "id": "CfTjG8yeXr1e",
    "outputId": "f0799a6f-2bf5-45e2-a0a5-ee04903af477"
   },
   "outputs": [
    {
     "name": "stdout",
     "output_type": "stream",
     "text": [
      "              precision    recall  f1-score   support\n",
      "\n",
      "     hiçbiri       0.85      0.95      0.90      2516\n",
      "      nefret       0.73      0.50      0.59       783\n",
      "   saldırgan       0.00      0.00      0.00        68\n",
      "\n",
      "    accuracy                           0.83      3367\n",
      "   macro avg       0.52      0.48      0.50      3367\n",
      "weighted avg       0.80      0.83      0.81      3367\n",
      "\n"
     ]
    },
    {
     "name": "stderr",
     "output_type": "stream",
     "text": [
      "C:\\Users\\mustafa\\anaconda3\\lib\\site-packages\\sklearn\\metrics\\_classification.py:1248: UndefinedMetricWarning: Precision and F-score are ill-defined and being set to 0.0 in labels with no predicted samples. Use `zero_division` parameter to control this behavior.\n",
      "  _warn_prf(average, modifier, msg_start, len(result))\n",
      "C:\\Users\\mustafa\\anaconda3\\lib\\site-packages\\sklearn\\metrics\\_classification.py:1248: UndefinedMetricWarning: Precision and F-score are ill-defined and being set to 0.0 in labels with no predicted samples. Use `zero_division` parameter to control this behavior.\n",
      "  _warn_prf(average, modifier, msg_start, len(result))\n",
      "C:\\Users\\mustafa\\anaconda3\\lib\\site-packages\\sklearn\\metrics\\_classification.py:1248: UndefinedMetricWarning: Precision and F-score are ill-defined and being set to 0.0 in labels with no predicted samples. Use `zero_division` parameter to control this behavior.\n",
      "  _warn_prf(average, modifier, msg_start, len(result))\n"
     ]
    }
   ],
   "source": [
    "from sklearn.metrics import classification_report\n",
    "\n",
    "y_pred = model.predict(X_test, batch_size=100,verbose=0)\n",
    "    \n",
    "y_pred_bool = np.argmax(y_pred,axis=1)\n",
    "\n",
    "\n",
    "print(classification_report(y_test, y_pred_bool,target_names=class_names ))"
   ]
  },
  {
   "cell_type": "markdown",
   "metadata": {
    "id": "55Twry15aQUS"
   },
   "source": [
    "# Yeni Bölüm"
   ]
  },
  {
   "cell_type": "code",
   "execution_count": 10,
   "metadata": {
    "colab": {
     "base_uri": "https://localhost:8080/"
    },
    "id": "F61gnyEbXsqF",
    "outputId": "c8a6ba33-471a-4760-fb55-c75ff5e9beb4"
   },
   "outputs": [
    {
     "name": "stdout",
     "output_type": "stream",
     "text": [
      "[[2392  124    0]\n",
      " [ 390  393    0]\n",
      " [  45   23    0]]\n",
      "0.8271458271458272\n"
     ]
    }
   ],
   "source": [
    "from sklearn import metrics\n",
    "print(metrics.confusion_matrix(y_test,y_pred_bool))\n",
    "print(metrics.accuracy_score(y_test,y_pred_bool))\n"
   ]
  },
  {
   "cell_type": "code",
   "execution_count": 11,
   "metadata": {
    "colab": {
     "base_uri": "https://localhost:8080/",
     "height": 312
    },
    "id": "cdfYz7S1XtWQ",
    "outputId": "a4969e48-0f6b-4444-d5fe-a8b7419e0bbd"
   },
   "outputs": [
    {
     "data": {
      "text/plain": [
       "<matplotlib.legend.Legend at 0x240cb909ca0>"
      ]
     },
     "execution_count": 11,
     "metadata": {},
     "output_type": "execute_result"
    },
    {
     "data": {
      "image/png": "[encoded data removed]",
      "text/plain": [
       "<Figure size 432x288 with 1 Axes>"
      ]
     },
     "metadata": {
      "needs_background": "light"
     },
     "output_type": "display_data"
    }
   ],
   "source": [
    "import matplotlib.pyplot as plt\n",
    "plt.plot(history.history['loss'])\n",
    "plt.plot(history.history['val_loss'])\n",
    "\n",
    "plt.title('model loss')\n",
    "plt.ylabel('loss')\n",
    "plt.xlabel('epoch')\n",
    "\n",
    "plt.legend(['training data', 'validation data'], loc = 'upper right')"
   ]
  },
  {
   "cell_type": "code",
   "execution_count": 12,
   "metadata": {},
   "outputs": [
    {
     "data": {
      "text/plain": [
       "<matplotlib.legend.Legend at 0x2405e2e5a60>"
      ]
     },
     "execution_count": 12,
     "metadata": {},
     "output_type": "execute_result"
    },
    {
     "data": {
      "image/png": "[encoded data removed]",
      "text/plain": [
       "<Figure size 432x288 with 1 Axes>"
      ]
     },
     "metadata": {
      "needs_background": "light"
     },
     "output_type": "display_data"
    }
   ],
   "source": [
    "plt.plot(history.history['accuracy'])\n",
    "plt.plot(history.history['val_accuracy'])\n",
    "\n",
    "plt.title('model accuracy')\n",
    "plt.ylabel('accuracy')\n",
    "plt.xlabel('epoch')\n",
    "\n",
    "plt.legend(['training data', 'validation data'], loc = 'lower right')"
   ]
  },
  {
   "cell_type": "code",
   "execution_count": 13,
   "metadata": {},
   "outputs": [
    {
     "data": {
      "text/plain": [
       "<matplotlib.legend.Legend at 0x240cba816d0>"
      ]
     },
     "execution_count": 13,
     "metadata": {},
     "output_type": "execute_result"
    },
    {
     "data": {
      "image/png": "[encoded data removed]",
      "text/plain": [
       "<Figure size 432x288 with 1 Axes>"
      ]
     },
     "metadata": {
      "needs_background": "light"
     },
     "output_type": "display_data"
    }
   ],
   "source": [
    "plt.plot(history.history['accuracy'])\n",
    "\n",
    "plt.title('Accuracy-Epoch')\n",
    "plt.ylabel('Accuracy')\n",
    "plt.xlabel('Epoch')\n",
    "\n",
    "plt.legend(['accuracy'], loc = 'upper right')"
   ]
  }
 ],
 "metadata": {
  "colab": {
   "collapsed_sections": [],
   "name": "ysa.ipynb",
   "provenance": []
  },
  "kernelspec": {
   "display_name": "Python 3 (ipykernel)",
   "language": "python",
   "name": "python3"
  },
  "language_info": {
   "codemirror_mode": {
    "name": "ipython",
    "version": 3
   },
   "file_extension": ".py",
   "mimetype": "text/x-python",
   "name": "python",
   "nbconvert_exporter": "python",
   "pygments_lexer": "ipython3",
   "version": "3.9.7"
  }
 },
 "nbformat": 4,
 "nbformat_minor": 1
}
