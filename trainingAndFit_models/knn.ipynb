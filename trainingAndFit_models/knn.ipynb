{
 "cells": [
  {
   "cell_type": "code",
   "execution_count": 10,
   "id": "2dae2b13",
   "metadata": {},
   "outputs": [
    {
     "data": {
      "text/html": [
       "<div>\n",
       "<style scoped>\n",
       "    .dataframe tbody tr th:only-of-type {\n",
       "        vertical-align: middle;\n",
       "    }\n",
       "\n",
       "    .dataframe tbody tr th {\n",
       "        vertical-align: top;\n",
       "    }\n",
       "\n",
       "    .dataframe thead th {\n",
       "        text-align: right;\n",
       "    }\n",
       "</style>\n",
       "<table border=\"1\" class=\"dataframe\">\n",
       "  <thead>\n",
       "    <tr style=\"text-align: right;\">\n",
       "      <th></th>\n",
       "      <th>Unnamed: 0</th>\n",
       "      <th>tweet</th>\n",
       "      <th>label</th>\n",
       "      <th>label2</th>\n",
       "    </tr>\n",
       "  </thead>\n",
       "  <tbody>\n",
       "    <tr>\n",
       "      <th>0</th>\n",
       "      <td>0</td>\n",
       "      <td>ya orospu cocuklari hepiniz niye ayni anda yaz...</td>\n",
       "      <td>nefret</td>\n",
       "      <td>1</td>\n",
       "    </tr>\n",
       "    <tr>\n",
       "      <th>1</th>\n",
       "      <td>1</td>\n",
       "      <td>ciddiye alan tüm dünyanın beynini sileyim.. iş...</td>\n",
       "      <td>saldırgan</td>\n",
       "      <td>2</td>\n",
       "    </tr>\n",
       "    <tr>\n",
       "      <th>2</th>\n",
       "      <td>2</td>\n",
       "      <td>kayıtlı i̇stihdama geçiş programına göre (?) ş...</td>\n",
       "      <td>hiçbiri</td>\n",
       "      <td>0</td>\n",
       "    </tr>\n",
       "    <tr>\n",
       "      <th>3</th>\n",
       "      <td>3</td>\n",
       "      <td>hastaneye git suriyeli. ptt ye git suriyeli. p...</td>\n",
       "      <td>nefret</td>\n",
       "      <td>1</td>\n",
       "    </tr>\n",
       "    <tr>\n",
       "      <th>4</th>\n",
       "      <td>4</td>\n",
       "      <td>cölesi bitmiş suriyeli gibiyim bugün</td>\n",
       "      <td>hiçbiri</td>\n",
       "      <td>0</td>\n",
       "    </tr>\n",
       "  </tbody>\n",
       "</table>\n",
       "</div>"
      ],
      "text/plain": [
       "   Unnamed: 0                                              tweet      label  \\\n",
       "0           0  ya orospu cocuklari hepiniz niye ayni anda yaz...     nefret   \n",
       "1           1  ciddiye alan tüm dünyanın beynini sileyim.. iş...  saldırgan   \n",
       "2           2  kayıtlı i̇stihdama geçiş programına göre (?) ş...    hiçbiri   \n",
       "3           3  hastaneye git suriyeli. ptt ye git suriyeli. p...     nefret   \n",
       "4           4               cölesi bitmiş suriyeli gibiyim bugün    hiçbiri   \n",
       "\n",
       "   label2  \n",
       "0       1  \n",
       "1       2  \n",
       "2       0  \n",
       "3       1  \n",
       "4       0  "
      ]
     },
     "execution_count": 10,
     "metadata": {},
     "output_type": "execute_result"
    }
   ],
   "source": [
    "import numpy as np\n",
    "import pandas as pd\n",
    "\n",
    "df=pd.read_csv('dataset2.csv')\n",
    "#df=pd.read_csv('tweet.csv')\n",
    "\n",
    "df.head()"
   ]
  },
  {
   "cell_type": "code",
   "execution_count": 11,
   "id": "df04948b",
   "metadata": {},
   "outputs": [],
   "source": [
    "tweet=df['tweet']\n",
    "y=df['label'].values\n"
   ]
  },
  {
   "cell_type": "code",
   "execution_count": 12,
   "id": "ce7785dc",
   "metadata": {},
   "outputs": [
    {
     "name": "stdout",
     "output_type": "stream",
     "text": [
      "0        ya orospu cocuklari hepiniz niye ayni anda yaz...\n",
      "1        ciddiye alan tüm dünyanın beynini sileyim.. iş...\n",
      "2        kayıtlı i̇stihdama geçiş programına göre (?) ş...\n",
      "3        hastaneye git suriyeli. ptt ye git suriyeli. p...\n",
      "4                     cölesi bitmiş suriyeli gibiyim bugün\n",
      "                               ...                        \n",
      "11217    bu sadece kadın erkek meselesi mi hayır iyi in...\n",
      "11218    eşcinsel genin olmadığına dair bilimsel çalışm...\n",
      "11219    eşcinsel çiftin düğün fotoğrafları viral oldu ...\n",
      "11220    kral şakir necati karakteri... türk dizilerind...\n",
      "11221    ulan maçı unutayım kafam dağılsın diye netflix...\n",
      "Name: tweet, Length: 11222, dtype: object\n"
     ]
    }
   ],
   "source": [
    "print(tweet)"
   ]
  },
  {
   "cell_type": "code",
   "execution_count": 13,
   "id": "4620410e",
   "metadata": {},
   "outputs": [
    {
     "name": "stdout",
     "output_type": "stream",
     "text": [
      "[[0. 0. 0. ... 0. 0. 0.]\n",
      " [0. 0. 0. ... 0. 0. 0.]\n",
      " [0. 0. 0. ... 0. 0. 0.]\n",
      " ...\n",
      " [0. 0. 0. ... 0. 0. 0.]\n",
      " [0. 0. 0. ... 0. 0. 0.]\n",
      " [0. 0. 0. ... 0. 0. 0.]]\n"
     ]
    }
   ],
   "source": [
    "from sklearn.feature_extraction.text import TfidfVectorizer\n",
    "vectorizer = TfidfVectorizer()\n",
    "X=vectorizer.fit_transform(tweet)\n",
    "\n",
    "print(X.toarray())"
   ]
  },
  {
   "cell_type": "code",
   "execution_count": 14,
   "id": "2c3362f1",
   "metadata": {},
   "outputs": [
    {
     "name": "stdout",
     "output_type": "stream",
     "text": [
      "trainign data shape: (8977, 56234)\n",
      "testing data shape: (2245, 56234)\n"
     ]
    }
   ],
   "source": [
    "from sklearn.model_selection import train_test_split\n",
    "X_train,X_test,y_train,y_test=train_test_split(X,y,test_size=0.2,random_state=0,shuffle=True)\n",
    "\n",
    "print(\"trainign data shape:\",X_train.shape)\n",
    "print(\"testing data shape:\",X_test.shape)"
   ]
  },
  {
   "cell_type": "code",
   "execution_count": 15,
   "id": "ecb13b04",
   "metadata": {},
   "outputs": [
    {
     "data": {
      "text/plain": [
       "KNeighborsClassifier(n_neighbors=3)"
      ]
     },
     "execution_count": 15,
     "metadata": {},
     "output_type": "execute_result"
    }
   ],
   "source": [
    "from sklearn.neighbors import KNeighborsClassifier\n",
    "knn_model=KNeighborsClassifier(n_neighbors=3)\n",
    "knn_model.fit(X_train,y_train)"
   ]
  },
  {
   "cell_type": "code",
   "execution_count": 16,
   "id": "0bdfe676",
   "metadata": {},
   "outputs": [
    {
     "name": "stdout",
     "output_type": "stream",
     "text": [
      "[[1554  109    4]\n",
      " [ 294  245    2]\n",
      " [  25   10    2]]\n"
     ]
    }
   ],
   "source": [
    "predictions=knn_model.predict(X_test)\n",
    "from sklearn import metrics\n",
    "print(metrics.confusion_matrix(y_test,predictions))"
   ]
  },
  {
   "cell_type": "code",
   "execution_count": 17,
   "id": "80a16890",
   "metadata": {
    "scrolled": true
   },
   "outputs": [
    {
     "name": "stdout",
     "output_type": "stream",
     "text": [
      "              precision    recall  f1-score   support\n",
      "\n",
      "     hiçbiri       0.83      0.93      0.88      1667\n",
      "      nefret       0.67      0.45      0.54       541\n",
      "   saldırgan       0.25      0.05      0.09        37\n",
      "\n",
      "    accuracy                           0.80      2245\n",
      "   macro avg       0.58      0.48      0.50      2245\n",
      "weighted avg       0.78      0.80      0.78      2245\n",
      "\n"
     ]
    }
   ],
   "source": [
    "print(metrics.classification_report(y_test,predictions))"
   ]
  },
  {
   "cell_type": "code",
   "execution_count": 18,
   "id": "a0e89c48",
   "metadata": {},
   "outputs": [
    {
     "name": "stdout",
     "output_type": "stream",
     "text": [
      "0.8022271714922049\n"
     ]
    }
   ],
   "source": [
    "print(metrics.accuracy_score(y_test,predictions))"
   ]
  },
  {
   "cell_type": "code",
   "execution_count": 19,
   "id": "3de5395d",
   "metadata": {},
   "outputs": [
    {
     "name": "stdout",
     "output_type": "stream",
     "text": [
      "0.8806951097248524\n"
     ]
    }
   ],
   "source": [
    "print(knn_model.score(X_train,y_train))"
   ]
  },
  {
   "cell_type": "code",
   "execution_count": null,
   "id": "00da5101",
   "metadata": {},
   "outputs": [],
   "source": [
    "sent_test_vector=vectorizer.transform([\"****\"])\n",
    "print(sent_test_vector)\n",
    "\n",
    "y_pred=knn_model.predict(sent_test_vector.toarray())\n",
    "print(y_pred)"
   ]
  }
 ],
 "metadata": {
  "kernelspec": {
   "display_name": "Python 3 (ipykernel)",
   "language": "python",
   "name": "python3"
  },
  "language_info": {
   "codemirror_mode": {
    "name": "ipython",
    "version": 3
   },
   "file_extension": ".py",
   "mimetype": "text/x-python",
   "name": "python",
   "nbconvert_exporter": "python",
   "pygments_lexer": "ipython3",
   "version": "3.9.7"
  }
 },
 "nbformat": 4,
 "nbformat_minor": 5
}
