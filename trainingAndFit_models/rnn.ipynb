{
 "cells": [
  {
   "cell_type": "code",
   "execution_count": 1,
   "metadata": {
    "colab": {
     "base_uri": "https://localhost:8080/"
    },
    "id": "f1pIrTuRDYss",
    "outputId": "492e4e15-fcc5-4363-b1f8-deb06c50e176"
   },
   "outputs": [
    {
     "name": "stdout",
     "output_type": "stream",
     "text": [
      "<class 'pandas.core.frame.DataFrame'>\n",
      "RangeIndex: 11222 entries, 0 to 11221\n",
      "Data columns (total 4 columns):\n",
      " #   Column      Non-Null Count  Dtype \n",
      "---  ------      --------------  ----- \n",
      " 0   Unnamed: 0  11222 non-null  int64 \n",
      " 1   tweet       11222 non-null  object\n",
      " 2   label       11222 non-null  object\n",
      " 3   label2      11222 non-null  int64 \n",
      "dtypes: int64(2), object(2)\n",
      "memory usage: 350.8+ KB\n"
     ]
    }
   ],
   "source": [
    "import numpy as np\n",
    "import pandas as pd\n",
    "import tensorflow as tf\n",
    "from keras.models import Sequential\n",
    "from keras.layers import Dense,Dropout,SimpleRNN,LSTM,Embedding\n",
    "from tensorflow import keras\n",
    "\n",
    "#df=pd.read_csv('tweetSon_.csv')\n",
    "df=pd.read_csv('dataset2.csv')\n",
    "#df=pd.read_csv('yeni_dataset_clean.csv')\n",
    "#df=pd.read_excel('/content/a.xlsx')\n",
    "#df=pd.read_csv('/content/tweetSon_.csv')\n",
    "\n",
    "df.info()\n",
    "\n"
   ]
  },
  {
   "cell_type": "code",
   "execution_count": 2,
   "metadata": {
    "colab": {
     "base_uri": "https://localhost:8080/",
     "height": 206
    },
    "id": "msQjqKJHmVSc",
    "outputId": "6e290a7f-e8f6-495a-82e2-5422f8021485"
   },
   "outputs": [
    {
     "data": {
      "text/html": [
       "<div>\n",
       "<style scoped>\n",
       "    .dataframe tbody tr th:only-of-type {\n",
       "        vertical-align: middle;\n",
       "    }\n",
       "\n",
       "    .dataframe tbody tr th {\n",
       "        vertical-align: top;\n",
       "    }\n",
       "\n",
       "    .dataframe thead th {\n",
       "        text-align: right;\n",
       "    }\n",
       "</style>\n",
       "<table border=\"1\" class=\"dataframe\">\n",
       "  <thead>\n",
       "    <tr style=\"text-align: right;\">\n",
       "      <th></th>\n",
       "      <th>Unnamed: 0</th>\n",
       "      <th>tweet</th>\n",
       "      <th>label</th>\n",
       "      <th>label2</th>\n",
       "    </tr>\n",
       "  </thead>\n",
       "  <tbody>\n",
       "    <tr>\n",
       "      <th>0</th>\n",
       "      <td>0</td>\n",
       "      <td>ya orospu cocuklari hepiniz niye ayni anda yaz...</td>\n",
       "      <td>nefret</td>\n",
       "      <td>1</td>\n",
       "    </tr>\n",
       "    <tr>\n",
       "      <th>1</th>\n",
       "      <td>1</td>\n",
       "      <td>ciddiye alan tüm dünyanın beynini sileyim.. iş...</td>\n",
       "      <td>saldırgan</td>\n",
       "      <td>2</td>\n",
       "    </tr>\n",
       "    <tr>\n",
       "      <th>2</th>\n",
       "      <td>2</td>\n",
       "      <td>kayıtlı i̇stihdama geçiş programına göre (?) ş...</td>\n",
       "      <td>hiçbiri</td>\n",
       "      <td>0</td>\n",
       "    </tr>\n",
       "    <tr>\n",
       "      <th>3</th>\n",
       "      <td>3</td>\n",
       "      <td>hastaneye git suriyeli. ptt ye git suriyeli. p...</td>\n",
       "      <td>nefret</td>\n",
       "      <td>1</td>\n",
       "    </tr>\n",
       "    <tr>\n",
       "      <th>4</th>\n",
       "      <td>4</td>\n",
       "      <td>cölesi bitmiş suriyeli gibiyim bugün</td>\n",
       "      <td>hiçbiri</td>\n",
       "      <td>0</td>\n",
       "    </tr>\n",
       "  </tbody>\n",
       "</table>\n",
       "</div>"
      ],
      "text/plain": [
       "   Unnamed: 0                                              tweet      label  \\\n",
       "0           0  ya orospu cocuklari hepiniz niye ayni anda yaz...     nefret   \n",
       "1           1  ciddiye alan tüm dünyanın beynini sileyim.. iş...  saldırgan   \n",
       "2           2  kayıtlı i̇stihdama geçiş programına göre (?) ş...    hiçbiri   \n",
       "3           3  hastaneye git suriyeli. ptt ye git suriyeli. p...     nefret   \n",
       "4           4               cölesi bitmiş suriyeli gibiyim bugün    hiçbiri   \n",
       "\n",
       "   label2  \n",
       "0       1  \n",
       "1       2  \n",
       "2       0  \n",
       "3       1  \n",
       "4       0  "
      ]
     },
     "execution_count": 2,
     "metadata": {},
     "output_type": "execute_result"
    }
   ],
   "source": [
    "df.head()"
   ]
  },
  {
   "cell_type": "code",
   "execution_count": 3,
   "metadata": {
    "id": "Rn4XOCpiDbdT"
   },
   "outputs": [],
   "source": [
    "#label=df['label'].values\n",
    "label=df['label2'].values\n",
    "\n",
    "tweet=df['tweet']\n",
    "\n",
    "from sklearn.feature_extraction.text import TfidfVectorizer\n",
    "vectorizer = TfidfVectorizer()\n",
    "features=vectorizer.fit_transform(tweet)"
   ]
  },
  {
   "cell_type": "code",
   "execution_count": 7,
   "metadata": {
    "id": "U4aT8kr5DcZb"
   },
   "outputs": [],
   "source": [
    "from sklearn.model_selection import train_test_split\n",
    "X_train,X_test ,y_train, y_test=train_test_split(features.toarray(),label,test_size=0.3,random_state=42)"
   ]
  },
  {
   "cell_type": "code",
   "execution_count": 8,
   "metadata": {
    "colab": {
     "base_uri": "https://localhost:8080/"
    },
    "id": "uXHLpGGRDdJ7",
    "outputId": "4c3a848a-0a80-4b4e-b310-1c2645c7263d"
   },
   "outputs": [
    {
     "name": "stdout",
     "output_type": "stream",
     "text": [
      "(11222, 56234) (7855, 56234) (7855,)\n"
     ]
    }
   ],
   "source": [
    "print(features.shape, X_train.shape, y_train.shape)"
   ]
  },
  {
   "cell_type": "code",
   "execution_count": 9,
   "metadata": {
    "id": "6HKoHHVYNfhN"
   },
   "outputs": [],
   "source": [
    "trainX = np.reshape(X_train, (X_train.shape[0],1,X_train.shape[1]))\n",
    "testX = np.reshape(X_test, (X_test.shape[0],1,X_test.shape[1]))\n",
    "trainY= np.reshape(y_train, (y_train.shape[0],1))\n",
    "testY= np.reshape(y_test, (y_test.shape[0],1))"
   ]
  },
  {
   "cell_type": "code",
   "execution_count": 35,
   "metadata": {
    "id": "dEX5hItFDd-C"
   },
   "outputs": [
    {
     "name": "stdout",
     "output_type": "stream",
     "text": [
      "Model: \"sequential_2\"\n",
      "_________________________________________________________________\n",
      " Layer (type)                Output Shape              Param #   \n",
      "=================================================================\n",
      " simple_rnn_2 (SimpleRNN)    (None, 32)                1800544   \n",
      "                                                                 \n",
      " dropout_7 (Dropout)         (None, 32)                0         \n",
      "                                                                 \n",
      " dense_7 (Dense)             (None, 64)                2112      \n",
      "                                                                 \n",
      " dropout_8 (Dropout)         (None, 64)                0         \n",
      "                                                                 \n",
      " dense_8 (Dense)             (None, 128)               8320      \n",
      "                                                                 \n",
      " dropout_9 (Dropout)         (None, 128)               0         \n",
      "                                                                 \n",
      " dense_9 (Dense)             (None, 64)                8256      \n",
      "                                                                 \n",
      " dropout_10 (Dropout)        (None, 64)                0         \n",
      "                                                                 \n",
      " dense_10 (Dense)            (None, 32)                2080      \n",
      "                                                                 \n",
      " dropout_11 (Dropout)        (None, 32)                0         \n",
      "                                                                 \n",
      " dense_11 (Dense)            (None, 3)                 99        \n",
      "                                                                 \n",
      "=================================================================\n",
      "Total params: 1,821,411\n",
      "Trainable params: 1,821,411\n",
      "Non-trainable params: 0\n",
      "_________________________________________________________________\n"
     ]
    }
   ],
   "source": [
    "model = Sequential()\n",
    "\n",
    "model.add(SimpleRNN(32,input_shape = (1,features.shape[1]), activation='relu',return_sequences=False))\n",
    "\n",
    "model.add(Dropout(0.3))\n",
    "model.add(Dense(64, kernel_initializer='uniform', activation='relu'))\n",
    "model.add(Dropout(0.3))\n",
    "model.add(Dense(128, kernel_initializer='uniform', activation='relu'))\n",
    "model.add(Dropout(0.3))\n",
    "model.add(Dense(64, kernel_initializer='uniform', activation='relu'))\n",
    "model.add(Dropout(0.3))\n",
    "model.add(Dense(32, kernel_initializer='uniform', activation='relu'))\n",
    "model.add(Dropout(0.3))\n",
    "model.add(Dense(3, activation='sigmoid'))\n",
    "\n",
    "model.compile(loss=\"mean_absolute_error\", optimizer='adam', metrics=[\"accuracy\"])\n",
    "#model.compile(loss = tf.keras.losses.SparseCategoricalCrossentropy(from_logits=True), optimizer=\"adam\", metrics=[\"accuracy\"])\n",
    "\n",
    "model.summary()\n"
   ]
  },
  {
   "cell_type": "code",
   "execution_count": 36,
   "metadata": {
    "colab": {
     "base_uri": "https://localhost:8080/"
    },
    "id": "_nE2hBAJDevh",
    "outputId": "9e1cb615-4b55-48cb-b925-8a3d2a0bb9d7"
   },
   "outputs": [
    {
     "name": "stdout",
     "output_type": "stream",
     "text": [
      "Epoch 1/100\n",
      "9/9 - 7s - loss: 0.5197 - accuracy: 0.5381 - val_loss: 0.5164 - val_accuracy: 0.7481 - 7s/epoch - 754ms/step\n",
      "Epoch 2/100\n",
      "9/9 - 1s - loss: 0.5126 - accuracy: 0.5476 - val_loss: 0.5062 - val_accuracy: 0.7481 - 815ms/epoch - 91ms/step\n",
      "Epoch 3/100\n",
      "9/9 - 1s - loss: 0.4971 - accuracy: 0.5595 - val_loss: 0.4802 - val_accuracy: 0.7481 - 996ms/epoch - 111ms/step\n",
      "Epoch 4/100\n",
      "9/9 - 1s - loss: 0.4531 - accuracy: 0.5449 - val_loss: 0.4036 - val_accuracy: 0.7481 - 896ms/epoch - 100ms/step\n",
      "Epoch 5/100\n",
      "9/9 - 1s - loss: 0.3471 - accuracy: 0.5291 - val_loss: 0.2870 - val_accuracy: 0.7481 - 982ms/epoch - 109ms/step\n",
      "Epoch 6/100\n",
      "9/9 - 1s - loss: 0.2780 - accuracy: 0.4852 - val_loss: 0.2736 - val_accuracy: 0.7481 - 942ms/epoch - 105ms/step\n",
      "Epoch 7/100\n",
      "9/9 - 1s - loss: 0.2727 - accuracy: 0.4448 - val_loss: 0.2735 - val_accuracy: 0.7481 - 941ms/epoch - 105ms/step\n",
      "Epoch 8/100\n",
      "9/9 - 1s - loss: 0.2725 - accuracy: 0.4125 - val_loss: 0.2735 - val_accuracy: 0.7481 - 920ms/epoch - 102ms/step\n",
      "Epoch 9/100\n",
      "9/9 - 1s - loss: 0.2726 - accuracy: 0.4095 - val_loss: 0.2735 - val_accuracy: 0.7481 - 939ms/epoch - 104ms/step\n",
      "Epoch 10/100\n",
      "9/9 - 1s - loss: 0.2725 - accuracy: 0.4080 - val_loss: 0.2735 - val_accuracy: 0.7481 - 928ms/epoch - 103ms/step\n",
      "Epoch 11/100\n",
      "9/9 - 1s - loss: 0.2726 - accuracy: 0.3968 - val_loss: 0.2735 - val_accuracy: 0.7481 - 923ms/epoch - 103ms/step\n",
      "Epoch 12/100\n",
      "9/9 - 1s - loss: 0.2725 - accuracy: 0.3783 - val_loss: 0.2735 - val_accuracy: 0.2303 - 959ms/epoch - 107ms/step\n",
      "Epoch 13/100\n",
      "9/9 - 1s - loss: 0.2725 - accuracy: 0.3829 - val_loss: 0.2735 - val_accuracy: 0.2303 - 963ms/epoch - 107ms/step\n",
      "Epoch 14/100\n",
      "9/9 - 1s - loss: 0.2724 - accuracy: 0.3777 - val_loss: 0.2735 - val_accuracy: 0.2303 - 932ms/epoch - 104ms/step\n",
      "Epoch 15/100\n",
      "9/9 - 1s - loss: 0.2720 - accuracy: 0.3624 - val_loss: 0.2734 - val_accuracy: 0.2303 - 982ms/epoch - 109ms/step\n",
      "Epoch 16/100\n",
      "9/9 - 1s - loss: 0.2707 - accuracy: 0.3587 - val_loss: 0.2728 - val_accuracy: 0.2303 - 883ms/epoch - 98ms/step\n",
      "Epoch 17/100\n",
      "9/9 - 1s - loss: 0.2655 - accuracy: 0.3411 - val_loss: 0.2679 - val_accuracy: 0.2303 - 1s/epoch - 114ms/step\n",
      "Epoch 18/100\n",
      "9/9 - 1s - loss: 0.2533 - accuracy: 0.3064 - val_loss: 0.2586 - val_accuracy: 0.2303 - 933ms/epoch - 104ms/step\n",
      "Epoch 19/100\n",
      "9/9 - 1s - loss: 0.2251 - accuracy: 0.2702 - val_loss: 0.2442 - val_accuracy: 0.2303 - 1s/epoch - 117ms/step\n",
      "Epoch 20/100\n",
      "9/9 - 1s - loss: 0.1873 - accuracy: 0.3268 - val_loss: 0.2316 - val_accuracy: 0.2303 - 1s/epoch - 114ms/step\n",
      "Epoch 21/100\n",
      "9/9 - 1s - loss: 0.1639 - accuracy: 0.4184 - val_loss: 0.2270 - val_accuracy: 0.7417 - 910ms/epoch - 101ms/step\n",
      "Epoch 22/100\n",
      "9/9 - 1s - loss: 0.1503 - accuracy: 0.4600 - val_loss: 0.2226 - val_accuracy: 0.8333 - 1s/epoch - 113ms/step\n",
      "Epoch 23/100\n",
      "9/9 - 1s - loss: 0.1302 - accuracy: 0.4360 - val_loss: 0.2214 - val_accuracy: 0.6819 - 921ms/epoch - 102ms/step\n",
      "Epoch 24/100\n",
      "9/9 - 1s - loss: 0.0904 - accuracy: 0.4074 - val_loss: 0.1999 - val_accuracy: 0.6959 - 1s/epoch - 113ms/step\n",
      "Epoch 25/100\n",
      "9/9 - 1s - loss: 0.0499 - accuracy: 0.3877 - val_loss: 0.1895 - val_accuracy: 0.6578 - 922ms/epoch - 102ms/step\n",
      "Epoch 26/100\n",
      "9/9 - 1s - loss: 0.0318 - accuracy: 0.3812 - val_loss: 0.1893 - val_accuracy: 0.1489 - 1s/epoch - 111ms/step\n",
      "Epoch 27/100\n",
      "9/9 - 1s - loss: 0.0265 - accuracy: 0.3545 - val_loss: 0.1889 - val_accuracy: 0.1501 - 989ms/epoch - 110ms/step\n",
      "Epoch 28/100\n",
      "9/9 - 1s - loss: 0.0256 - accuracy: 0.3409 - val_loss: 0.1907 - val_accuracy: 0.1514 - 961ms/epoch - 107ms/step\n",
      "Epoch 29/100\n",
      "9/9 - 1s - loss: 0.0253 - accuracy: 0.3295 - val_loss: 0.1912 - val_accuracy: 0.1387 - 911ms/epoch - 101ms/step\n",
      "Epoch 30/100\n",
      "9/9 - 1s - loss: 0.0245 - accuracy: 0.3418 - val_loss: 0.1903 - val_accuracy: 0.1349 - 1s/epoch - 124ms/step\n",
      "Epoch 31/100\n",
      "9/9 - 1s - loss: 0.0247 - accuracy: 0.3504 - val_loss: 0.1874 - val_accuracy: 0.1399 - 1s/epoch - 116ms/step\n",
      "Epoch 32/100\n",
      "9/9 - 1s - loss: 0.0244 - accuracy: 0.3654 - val_loss: 0.1876 - val_accuracy: 0.1450 - 1s/epoch - 118ms/step\n",
      "Epoch 33/100\n",
      "9/9 - 1s - loss: 0.0239 - accuracy: 0.3566 - val_loss: 0.1895 - val_accuracy: 0.1705 - 1s/epoch - 119ms/step\n",
      "Epoch 34/100\n",
      "9/9 - 1s - loss: 0.0237 - accuracy: 0.3606 - val_loss: 0.1893 - val_accuracy: 0.7201 - 1s/epoch - 113ms/step\n",
      "Epoch 35/100\n",
      "9/9 - 1s - loss: 0.0241 - accuracy: 0.3572 - val_loss: 0.1879 - val_accuracy: 0.7290 - 969ms/epoch - 108ms/step\n",
      "Epoch 36/100\n",
      "9/9 - 1s - loss: 0.0238 - accuracy: 0.3590 - val_loss: 0.1892 - val_accuracy: 0.7226 - 975ms/epoch - 108ms/step\n",
      "Epoch 37/100\n",
      "9/9 - 1s - loss: 0.0235 - accuracy: 0.3455 - val_loss: 0.1923 - val_accuracy: 0.6590 - 961ms/epoch - 107ms/step\n",
      "Epoch 38/100\n",
      "9/9 - 1s - loss: 0.0237 - accuracy: 0.3272 - val_loss: 0.1907 - val_accuracy: 0.1310 - 1s/epoch - 113ms/step\n",
      "Epoch 39/100\n",
      "9/9 - 1s - loss: 0.0235 - accuracy: 0.3247 - val_loss: 0.1914 - val_accuracy: 0.1323 - 961ms/epoch - 107ms/step\n",
      "Epoch 40/100\n",
      "9/9 - 1s - loss: 0.0237 - accuracy: 0.3126 - val_loss: 0.1866 - val_accuracy: 0.1323 - 918ms/epoch - 102ms/step\n",
      "Epoch 41/100\n",
      "9/9 - 1s - loss: 0.0235 - accuracy: 0.3285 - val_loss: 0.1857 - val_accuracy: 0.1374 - 997ms/epoch - 111ms/step\n",
      "Epoch 42/100\n",
      "9/9 - 1s - loss: 0.0234 - accuracy: 0.3395 - val_loss: 0.1855 - val_accuracy: 0.1298 - 950ms/epoch - 106ms/step\n",
      "Epoch 43/100\n",
      "9/9 - 1s - loss: 0.0232 - accuracy: 0.3210 - val_loss: 0.1869 - val_accuracy: 0.1298 - 1s/epoch - 112ms/step\n",
      "Epoch 44/100\n",
      "9/9 - 1s - loss: 0.0232 - accuracy: 0.3223 - val_loss: 0.1866 - val_accuracy: 0.1323 - 917ms/epoch - 102ms/step\n",
      "Epoch 45/100\n",
      "9/9 - 1s - loss: 0.0232 - accuracy: 0.3190 - val_loss: 0.1894 - val_accuracy: 0.1310 - 1s/epoch - 113ms/step\n",
      "Epoch 46/100\n",
      "9/9 - 1s - loss: 0.0234 - accuracy: 0.3254 - val_loss: 0.1894 - val_accuracy: 0.1361 - 945ms/epoch - 105ms/step\n",
      "Epoch 47/100\n",
      "9/9 - 1s - loss: 0.0234 - accuracy: 0.3150 - val_loss: 0.1901 - val_accuracy: 0.1336 - 983ms/epoch - 109ms/step\n",
      "Epoch 48/100\n",
      "9/9 - 1s - loss: 0.0233 - accuracy: 0.3221 - val_loss: 0.1894 - val_accuracy: 0.1336 - 1s/epoch - 111ms/step\n",
      "Epoch 49/100\n",
      "9/9 - 1s - loss: 0.0231 - accuracy: 0.3063 - val_loss: 0.1921 - val_accuracy: 0.1349 - 1s/epoch - 115ms/step\n",
      "Epoch 50/100\n",
      "9/9 - 1s - loss: 0.0230 - accuracy: 0.3172 - val_loss: 0.1908 - val_accuracy: 0.1361 - 1s/epoch - 113ms/step\n",
      "Epoch 51/100\n",
      "9/9 - 1s - loss: 0.0230 - accuracy: 0.3225 - val_loss: 0.1897 - val_accuracy: 0.1323 - 971ms/epoch - 108ms/step\n",
      "Epoch 52/100\n",
      "9/9 - 1s - loss: 0.0230 - accuracy: 0.3343 - val_loss: 0.1868 - val_accuracy: 0.1463 - 969ms/epoch - 108ms/step\n",
      "Epoch 53/100\n",
      "9/9 - 1s - loss: 0.0230 - accuracy: 0.3306 - val_loss: 0.1909 - val_accuracy: 0.1463 - 1s/epoch - 111ms/step\n",
      "Epoch 54/100\n",
      "9/9 - 1s - loss: 0.0232 - accuracy: 0.3479 - val_loss: 0.1847 - val_accuracy: 0.1425 - 978ms/epoch - 109ms/step\n",
      "Epoch 55/100\n",
      "9/9 - 1s - loss: 0.0230 - accuracy: 0.3316 - val_loss: 0.1917 - val_accuracy: 0.1399 - 988ms/epoch - 110ms/step\n",
      "Epoch 56/100\n",
      "9/9 - 1s - loss: 0.0230 - accuracy: 0.3314 - val_loss: 0.1870 - val_accuracy: 0.1374 - 986ms/epoch - 110ms/step\n",
      "Epoch 57/100\n",
      "9/9 - 1s - loss: 0.0230 - accuracy: 0.3329 - val_loss: 0.1853 - val_accuracy: 0.1476 - 1s/epoch - 115ms/step\n",
      "Epoch 58/100\n",
      "9/9 - 1s - loss: 0.0233 - accuracy: 0.3351 - val_loss: 0.1865 - val_accuracy: 0.1387 - 1s/epoch - 113ms/step\n",
      "Epoch 59/100\n",
      "9/9 - 1s - loss: 0.0229 - accuracy: 0.3290 - val_loss: 0.1867 - val_accuracy: 0.1412 - 989ms/epoch - 110ms/step\n",
      "Epoch 60/100\n",
      "9/9 - 1s - loss: 0.0229 - accuracy: 0.3289 - val_loss: 0.1893 - val_accuracy: 0.1412 - 962ms/epoch - 107ms/step\n",
      "Epoch 61/100\n",
      "9/9 - 1s - loss: 0.0231 - accuracy: 0.3300 - val_loss: 0.1878 - val_accuracy: 0.1323 - 950ms/epoch - 106ms/step\n",
      "Epoch 62/100\n",
      "9/9 - 1s - loss: 0.0230 - accuracy: 0.3428 - val_loss: 0.1868 - val_accuracy: 0.1310 - 995ms/epoch - 111ms/step\n",
      "Epoch 63/100\n",
      "9/9 - 1s - loss: 0.0230 - accuracy: 0.3206 - val_loss: 0.1864 - val_accuracy: 0.1272 - 986ms/epoch - 110ms/step\n",
      "Epoch 64/100\n",
      "9/9 - 1s - loss: 0.0231 - accuracy: 0.3239 - val_loss: 0.1849 - val_accuracy: 0.1272 - 964ms/epoch - 107ms/step\n",
      "Epoch 65/100\n",
      "9/9 - 1s - loss: 0.0230 - accuracy: 0.3235 - val_loss: 0.1908 - val_accuracy: 0.1387 - 1s/epoch - 115ms/step\n",
      "Epoch 66/100\n",
      "9/9 - 1s - loss: 0.0230 - accuracy: 0.3080 - val_loss: 0.1936 - val_accuracy: 0.1399 - 1s/epoch - 116ms/step\n",
      "Epoch 67/100\n",
      "9/9 - 1s - loss: 0.0230 - accuracy: 0.2891 - val_loss: 0.1938 - val_accuracy: 0.1336 - 1s/epoch - 112ms/step\n"
     ]
    },
    {
     "name": "stdout",
     "output_type": "stream",
     "text": [
      "Epoch 68/100\n",
      "9/9 - 1s - loss: 0.0230 - accuracy: 0.2640 - val_loss: 0.1929 - val_accuracy: 0.1336 - 964ms/epoch - 107ms/step\n",
      "Epoch 69/100\n",
      "9/9 - 1s - loss: 0.0229 - accuracy: 0.2553 - val_loss: 0.1922 - val_accuracy: 0.1336 - 1s/epoch - 113ms/step\n",
      "Epoch 70/100\n",
      "9/9 - 1s - loss: 0.0230 - accuracy: 0.2395 - val_loss: 0.1912 - val_accuracy: 0.1323 - 1s/epoch - 113ms/step\n",
      "Epoch 71/100\n",
      "9/9 - 1s - loss: 0.0232 - accuracy: 0.2460 - val_loss: 0.1942 - val_accuracy: 0.1298 - 978ms/epoch - 109ms/step\n",
      "Epoch 72/100\n",
      "9/9 - 1s - loss: 0.0229 - accuracy: 0.2532 - val_loss: 0.1954 - val_accuracy: 0.1425 - 1s/epoch - 114ms/step\n",
      "Epoch 73/100\n",
      "9/9 - 1s - loss: 0.0230 - accuracy: 0.2522 - val_loss: 0.1953 - val_accuracy: 0.1450 - 1s/epoch - 112ms/step\n",
      "Epoch 74/100\n",
      "9/9 - 1s - loss: 0.0229 - accuracy: 0.2568 - val_loss: 0.1954 - val_accuracy: 0.1425 - 955ms/epoch - 106ms/step\n",
      "Epoch 75/100\n",
      "9/9 - 1s - loss: 0.0229 - accuracy: 0.2532 - val_loss: 0.1955 - val_accuracy: 0.1412 - 961ms/epoch - 107ms/step\n",
      "Epoch 76/100\n",
      "9/9 - 1s - loss: 0.0229 - accuracy: 0.2502 - val_loss: 0.1956 - val_accuracy: 0.1450 - 990ms/epoch - 110ms/step\n",
      "Epoch 77/100\n",
      "9/9 - 1s - loss: 0.0230 - accuracy: 0.2467 - val_loss: 0.1957 - val_accuracy: 0.1463 - 974ms/epoch - 108ms/step\n",
      "Epoch 78/100\n",
      "9/9 - 1s - loss: 0.0230 - accuracy: 0.2519 - val_loss: 0.1925 - val_accuracy: 0.1336 - 947ms/epoch - 105ms/step\n",
      "Epoch 79/100\n",
      "9/9 - 1s - loss: 0.0230 - accuracy: 0.2364 - val_loss: 0.1892 - val_accuracy: 0.1336 - 975ms/epoch - 108ms/step\n",
      "Epoch 80/100\n",
      "9/9 - 1s - loss: 0.0230 - accuracy: 0.2411 - val_loss: 0.1874 - val_accuracy: 0.1387 - 949ms/epoch - 105ms/step\n",
      "Epoch 81/100\n",
      "9/9 - 1s - loss: 0.0231 - accuracy: 0.2388 - val_loss: 0.1915 - val_accuracy: 0.1387 - 942ms/epoch - 105ms/step\n",
      "Epoch 82/100\n",
      "9/9 - 1s - loss: 0.0229 - accuracy: 0.2460 - val_loss: 0.1947 - val_accuracy: 0.1450 - 1s/epoch - 114ms/step\n",
      "Epoch 83/100\n",
      "9/9 - 1s - loss: 0.0229 - accuracy: 0.2586 - val_loss: 0.1942 - val_accuracy: 0.1463 - 1s/epoch - 114ms/step\n",
      "Epoch 84/100\n",
      "9/9 - 1s - loss: 0.0229 - accuracy: 0.2575 - val_loss: 0.1943 - val_accuracy: 0.1476 - 962ms/epoch - 107ms/step\n",
      "Epoch 85/100\n",
      "9/9 - 1s - loss: 0.0229 - accuracy: 0.2563 - val_loss: 0.1939 - val_accuracy: 0.1412 - 1s/epoch - 118ms/step\n",
      "Epoch 86/100\n",
      "9/9 - 1s - loss: 0.0229 - accuracy: 0.2524 - val_loss: 0.1929 - val_accuracy: 0.1450 - 1s/epoch - 121ms/step\n",
      "Epoch 87/100\n",
      "9/9 - 1s - loss: 0.0229 - accuracy: 0.2614 - val_loss: 0.1924 - val_accuracy: 0.1425 - 1s/epoch - 116ms/step\n",
      "Epoch 88/100\n",
      "9/9 - 1s - loss: 0.0229 - accuracy: 0.2604 - val_loss: 0.1927 - val_accuracy: 0.1399 - 983ms/epoch - 109ms/step\n",
      "Epoch 89/100\n",
      "9/9 - 1s - loss: 0.0229 - accuracy: 0.2613 - val_loss: 0.1927 - val_accuracy: 0.1425 - 1s/epoch - 112ms/step\n",
      "Epoch 90/100\n",
      "9/9 - 1s - loss: 0.0230 - accuracy: 0.2681 - val_loss: 0.1927 - val_accuracy: 0.1387 - 1s/epoch - 114ms/step\n",
      "Epoch 91/100\n",
      "9/9 - 1s - loss: 0.0231 - accuracy: 0.2712 - val_loss: 0.1924 - val_accuracy: 0.1374 - 1s/epoch - 112ms/step\n",
      "Epoch 92/100\n",
      "9/9 - 1s - loss: 0.0229 - accuracy: 0.2739 - val_loss: 0.1921 - val_accuracy: 0.1387 - 961ms/epoch - 107ms/step\n",
      "Epoch 93/100\n",
      "9/9 - 1s - loss: 0.0229 - accuracy: 0.2729 - val_loss: 0.1919 - val_accuracy: 0.1399 - 961ms/epoch - 107ms/step\n",
      "Epoch 94/100\n",
      "9/9 - 1s - loss: 0.0230 - accuracy: 0.2750 - val_loss: 0.1916 - val_accuracy: 0.1387 - 987ms/epoch - 110ms/step\n",
      "Epoch 95/100\n",
      "9/9 - 1s - loss: 0.0230 - accuracy: 0.2824 - val_loss: 0.1914 - val_accuracy: 0.1412 - 1s/epoch - 113ms/step\n",
      "Epoch 96/100\n",
      "9/9 - 1s - loss: 0.0230 - accuracy: 0.2886 - val_loss: 0.1911 - val_accuracy: 0.1412 - 1s/epoch - 117ms/step\n",
      "Epoch 97/100\n",
      "9/9 - 1s - loss: 0.0231 - accuracy: 0.2795 - val_loss: 0.1920 - val_accuracy: 0.1399 - 1s/epoch - 120ms/step\n",
      "Epoch 98/100\n",
      "9/9 - 1s - loss: 0.0230 - accuracy: 0.2858 - val_loss: 0.1948 - val_accuracy: 0.1463 - 1s/epoch - 123ms/step\n",
      "Epoch 99/100\n",
      "9/9 - 1s - loss: 0.0231 - accuracy: 0.2873 - val_loss: 0.1941 - val_accuracy: 0.1489 - 1s/epoch - 123ms/step\n",
      "Epoch 100/100\n",
      "9/9 - 1s - loss: 0.0229 - accuracy: 0.3033 - val_loss: 0.1921 - val_accuracy: 0.1565 - 1s/epoch - 115ms/step\n"
     ]
    }
   ],
   "source": [
    "history=model.fit(trainX, trainY,validation_split=0.1, batch_size=800 ,epochs=100, verbose=2)"
   ]
  },
  {
   "cell_type": "code",
   "execution_count": 37,
   "metadata": {
    "colab": {
     "base_uri": "https://localhost:8080/"
    },
    "id": "rJMb_dJXDfm3",
    "outputId": "9ee04d1e-406b-47ab-d794-83faf611de63"
   },
   "outputs": [
    {
     "name": "stdout",
     "output_type": "stream",
     "text": [
      "[0.18647903203964233, 0.16869616508483887]\n"
     ]
    }
   ],
   "source": [
    "trainscore= model.evaluate(testX,testY,verbose=0)\n",
    "print(trainscore)"
   ]
  },
  {
   "cell_type": "code",
   "execution_count": 38,
   "metadata": {
    "id": "Ckiy2kgEQY5k"
   },
   "outputs": [],
   "source": [
    "class_names = [\"hiçbiri\",\"nefret\",\"saldırgan\"]"
   ]
  },
  {
   "cell_type": "code",
   "execution_count": 39,
   "metadata": {
    "colab": {
     "base_uri": "https://localhost:8080/",
     "height": 312
    },
    "id": "PWf67kVqDibT",
    "outputId": "17f258fa-9fef-437c-e49b-5e37ea461943"
   },
   "outputs": [
    {
     "data": {
      "text/plain": [
       "<matplotlib.legend.Legend at 0x2887abe86d0>"
      ]
     },
     "execution_count": 39,
     "metadata": {},
     "output_type": "execute_result"
    },
    {
     "data": {
      "image/png": "[encoded data removed]",
      "text/plain": [
       "<Figure size 432x288 with 1 Axes>"
      ]
     },
     "metadata": {
      "needs_background": "light"
     },
     "output_type": "display_data"
    }
   ],
   "source": [
    "import matplotlib.pyplot as plt\n",
    "plt.plot(history.history['loss'])\n",
    "plt.plot(history.history['val_loss'])\n",
    "\n",
    "plt.title('model loss')\n",
    "plt.ylabel('loss')\n",
    "plt.xlabel('epoch')\n",
    "\n",
    "plt.legend(['training data', 'validation data'], loc = 'upper right')"
   ]
  },
  {
   "cell_type": "code",
   "execution_count": 40,
   "metadata": {},
   "outputs": [
    {
     "data": {
      "text/plain": [
       "<matplotlib.legend.Legend at 0x2887ac65610>"
      ]
     },
     "execution_count": 40,
     "metadata": {},
     "output_type": "execute_result"
    },
    {
     "data": {
      "image/png": "[encoded data removed]",
      "text/plain": [
       "<Figure size 432x288 with 1 Axes>"
      ]
     },
     "metadata": {
      "needs_background": "light"
     },
     "output_type": "display_data"
    }
   ],
   "source": [
    "plt.plot(history.history['accuracy'])\n",
    "\n",
    "plt.title('Accuracy-epoch')\n",
    "plt.ylabel('accuracy')\n",
    "plt.xlabel('epoch')\n",
    "\n",
    "plt.legend(['accuracy'], loc = 'upper right')"
   ]
  },
  {
   "cell_type": "code",
   "execution_count": 41,
   "metadata": {},
   "outputs": [
    {
     "name": "stdout",
     "output_type": "stream",
     "text": [
      "              precision    recall  f1-score   support\n",
      "\n",
      "     hiçbiri       0.17      0.02      0.04      2501\n",
      "      nefret       0.17      0.62      0.27       811\n",
      "   saldırgan       0.06      0.05      0.06        55\n",
      "\n",
      "    accuracy                           0.17      3367\n",
      "   macro avg       0.13      0.23      0.12      3367\n",
      "weighted avg       0.17      0.17      0.10      3367\n",
      "\n"
     ]
    }
   ],
   "source": [
    "from sklearn.metrics import classification_report\n",
    "\n",
    "y_pred = model.predict(testX, batch_size=200,verbose=0)\n",
    "    \n",
    "#y_pred_bool = np.round(y_pred)\n",
    "y_pred_bool = np.argmax(y_pred,axis=1)\n",
    "\n",
    "\n",
    "print(classification_report(testY, y_pred_bool,target_names=class_names ))\n"
   ]
  },
  {
   "cell_type": "code",
   "execution_count": 42,
   "metadata": {},
   "outputs": [
    {
     "data": {
      "text/plain": [
       "<matplotlib.legend.Legend at 0x2887aca1eb0>"
      ]
     },
     "execution_count": 42,
     "metadata": {},
     "output_type": "execute_result"
    },
    {
     "data": {
      "image/png": "[encoded data removed]",
      "text/plain": [
       "<Figure size 432x288 with 1 Axes>"
      ]
     },
     "metadata": {
      "needs_background": "light"
     },
     "output_type": "display_data"
    }
   ],
   "source": [
    "plt.plot(history.history['accuracy'])\n",
    "plt.plot(history.history['val_accuracy'])\n",
    "\n",
    "plt.title('model accuracy')\n",
    "plt.ylabel('accuracy')\n",
    "plt.xlabel('epoch')\n",
    "\n",
    "plt.legend(['training data', 'validation data'], loc = 'lower right')"
   ]
  }
 ],
 "metadata": {
  "accelerator": "GPU",
  "colab": {
   "collapsed_sections": [],
   "name": "rnn.ipynb",
   "provenance": []
  },
  "kernelspec": {
   "display_name": "Python 3 (ipykernel)",
   "language": "python",
   "name": "python3"
  },
  "language_info": {
   "codemirror_mode": {
    "name": "ipython",
    "version": 3
   },
   "file_extension": ".py",
   "mimetype": "text/x-python",
   "name": "python",
   "nbconvert_exporter": "python",
   "pygments_lexer": "ipython3",
   "version": "3.9.7"
  }
 },
 "nbformat": 4,
 "nbformat_minor": 1
}
