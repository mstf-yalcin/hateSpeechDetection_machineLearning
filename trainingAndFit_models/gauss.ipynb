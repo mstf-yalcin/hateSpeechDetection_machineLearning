{
 "cells": [
  {
   "cell_type": "code",
   "execution_count": 1,
   "id": "38e92477",
   "metadata": {},
   "outputs": [
    {
     "name": "stdout",
     "output_type": "stream",
     "text": [
      "<class 'pandas.core.frame.DataFrame'>\n",
      "RangeIndex: 11222 entries, 0 to 11221\n",
      "Data columns (total 3 columns):\n",
      " #   Column      Non-Null Count  Dtype \n",
      "---  ------      --------------  ----- \n",
      " 0   Unnamed: 0  11222 non-null  int64 \n",
      " 1   tweet       11222 non-null  object\n",
      " 2   label       11222 non-null  object\n",
      "dtypes: int64(1), object(2)\n",
      "memory usage: 263.1+ KB\n"
     ]
    }
   ],
   "source": [
    "import pandas as pd\n",
    "df=pd.read_csv('dataset2.csv')\n",
    "#df=pd.pandas.read_excel('ws.xlsx')\n",
    "#df=pd.pandas.read_excel('x.xlsx')\n",
    "df.info()\n"
   ]
  },
  {
   "cell_type": "code",
   "execution_count": 2,
   "id": "43135308",
   "metadata": {},
   "outputs": [
    {
     "name": "stdout",
     "output_type": "stream",
     "text": [
      "       Unnamed: 0                                              tweet  \\\n",
      "0               0  ya orospu cocuklari hepiniz niye ayni anda yaz...   \n",
      "1               1  ciddiye alan tüm dünyanın beynini sileyim.. iş...   \n",
      "2               2  kayıtlı i̇stihdama geçiş programına göre (?) ş...   \n",
      "3               3  hastaneye git suriyeli. ptt ye git suriyeli. p...   \n",
      "4               4               cölesi bitmiş suriyeli gibiyim bugün   \n",
      "...           ...                                                ...   \n",
      "11217       11217  bu sadece kadın erkek meselesi mi hayır iyi in...   \n",
      "11218       11218  eşcinsel genin olmadığına dair bilimsel çalışm...   \n",
      "11219       11219  eşcinsel çiftin düğün fotoğrafları viral oldu ...   \n",
      "11220       11220  kral şakir necati karakteri... türk dizilerind...   \n",
      "11221       11221  ulan maçı unutayım kafam dağılsın diye netflix...   \n",
      "\n",
      "           label  \n",
      "0         nefret  \n",
      "1      saldırgan  \n",
      "2        hiçbiri  \n",
      "3         nefret  \n",
      "4        hiçbiri  \n",
      "...          ...  \n",
      "11217    hiçbiri  \n",
      "11218     nefret  \n",
      "11219    hiçbiri  \n",
      "11220    hiçbiri  \n",
      "11221    hiçbiri  \n",
      "\n",
      "[11222 rows x 3 columns]\n"
     ]
    }
   ],
   "source": [
    "print(df)"
   ]
  },
  {
   "cell_type": "code",
   "execution_count": 2,
   "id": "c88e7f5a",
   "metadata": {},
   "outputs": [],
   "source": [
    "tweet=[doc for doc in df['tweet']]\n",
    "label=[doc for doc in df['label']]\n"
   ]
  },
  {
   "cell_type": "code",
   "execution_count": null,
   "id": "58689e06",
   "metadata": {},
   "outputs": [],
   "source": [
    "from sklearn.feature_extraction.text import TfidfVectorizer\n",
    "vectorizer = TfidfVectorizer(analyzer='word')\n",
    "sen_tranin_vector=vectorizer.fit_transform(tweet)\n",
    "\n",
    "print(sen_tranin_vector.toarray())\n"
   ]
  },
  {
   "cell_type": "code",
   "execution_count": 5,
   "id": "f61e8117",
   "metadata": {},
   "outputs": [],
   "source": [
    "from sklearn.naive_bayes import GaussianNB\n",
    "clf=GaussianNB()\n",
    "model=clf.fit(X=sen_tranin_vector.toarray(),y=label)"
   ]
  },
  {
   "cell_type": "code",
   "execution_count": 6,
   "id": "7505a517",
   "metadata": {},
   "outputs": [
    {
     "name": "stdout",
     "output_type": "stream",
     "text": [
      "[[8120  219   46]\n",
      " [   0 2601   10]\n",
      " [   0    0  226]]\n"
     ]
    }
   ],
   "source": [
    "predictions=model.predict(sen_tranin_vector.toarray())\n",
    "from sklearn import metrics\n",
    "print(metrics.confusion_matrix(label,predictions))"
   ]
  },
  {
   "cell_type": "code",
   "execution_count": 7,
   "id": "7b4b00d7",
   "metadata": {},
   "outputs": [
    {
     "name": "stdout",
     "output_type": "stream",
     "text": [
      "              precision    recall  f1-score   support\n",
      "\n",
      "     hiçbiri       1.00      0.97      0.98      8385\n",
      "      nefret       0.92      1.00      0.96      2611\n",
      "   saldırgan       0.80      1.00      0.89       226\n",
      "\n",
      "    accuracy                           0.98     11222\n",
      "   macro avg       0.91      0.99      0.94     11222\n",
      "weighted avg       0.98      0.98      0.98     11222\n",
      "\n"
     ]
    }
   ],
   "source": [
    "print(metrics.classification_report(label,predictions))"
   ]
  },
  {
   "cell_type": "code",
   "execution_count": 8,
   "id": "e9a155a2",
   "metadata": {},
   "outputs": [
    {
     "name": "stdout",
     "output_type": "stream",
     "text": [
      "0.975494564248797\n"
     ]
    }
   ],
   "source": [
    "print(metrics.accuracy_score(label,predictions))"
   ]
  }
 ],
 "metadata": {
  "kernelspec": {
   "display_name": "Python 3 (ipykernel)",
   "language": "python",
   "name": "python3"
  },
  "language_info": {
   "codemirror_mode": {
    "name": "ipython",
    "version": 3
   },
   "file_extension": ".py",
   "mimetype": "text/x-python",
   "name": "python",
   "nbconvert_exporter": "python",
   "pygments_lexer": "ipython3",
   "version": "3.9.7"
  }
 },
 "nbformat": 4,
 "nbformat_minor": 5
}
